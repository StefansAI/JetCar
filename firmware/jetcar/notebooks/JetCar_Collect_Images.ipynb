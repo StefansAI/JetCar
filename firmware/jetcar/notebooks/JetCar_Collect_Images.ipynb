{
 "cells": [
  {
   "cell_type": "markdown",
   "metadata": {},
   "source": [
    "## Notebook JetCar_Collect_Images\n",
    "### Collect Scene Images for ImageSegmenter \n",
    "> This notebook allows manually driving the car around to take images of the scene\n",
    "***"
   ]
  },
  {
   "cell_type": "markdown",
   "metadata": {},
   "source": [
    "<br>\n",
    "Import major libraries for this notebook"
   ]
  },
  {
   "cell_type": "code",
   "execution_count": null,
   "metadata": {},
   "outputs": [],
   "source": [
    "import os\n",
    "import cv2\n",
    "import ipywidgets\n",
    "import traitlets\n",
    "from IPython.display import display\n",
    "from jetcam.utils import bgr8_to_jpeg\n",
    "from utils import preprocess,load_color_map\n",
    "import numpy as np\n",
    "from jetcar_definitions import *"
   ]
  },
  {
   "cell_type": "markdown",
   "metadata": {},
   "source": [
    "Import JetCar hardware class and instantiate car object"
   ]
  },
  {
   "cell_type": "code",
   "execution_count": 2,
   "metadata": {},
   "outputs": [],
   "source": [
    "from jetcar_car import JetCar\n",
    "car = JetCar()"
   ]
  },
  {
   "cell_type": "markdown",
   "metadata": {},
   "source": [
    "Import and instantiate camera object with full field of view scaled down to 4 times image size for ImageSegementer"
   ]
  },
  {
   "cell_type": "code",
   "execution_count": 3,
   "metadata": {},
   "outputs": [],
   "source": [
    "from jetcam.csi_camera import CSICamera\n",
    "camera = CSICamera(width=4*IMG_SIZE, height=4*IMG_SIZE, capture_width=3280, capture_height=2464, capture_fps=4)"
   ]
  },
  {
   "cell_type": "markdown",
   "metadata": {},
   "source": [
    "Create widgets for throttle and steering control"
   ]
  },
  {
   "cell_type": "code",
   "execution_count": 4,
   "metadata": {},
   "outputs": [],
   "source": [
    "import ipywidgets.widgets as widgets\n",
    "\n",
    "max_throttle = 0.3\n",
    "throttle_enable_widget = ipywidgets.Checkbox(value=True, description='Throttle Enable',layout={'width': '200px'} )\n",
    "steering_value_slider = ipywidgets.FloatSlider(min=-1.0, max=1.0, step=0.001, value=0, description='Steering', layout={'width': '900px'})\n",
    "throttle_value_slider = ipywidgets.FloatSlider(min=-max_throttle, max=max_throttle, step=0.001, value=0, description='Throttle',layout={'width': '900px'})\n",
    "\n",
    "def on_throttle_enable_change(change):\n",
    "    if change['new'] == True:\n",
    "        car.throttle = throttle_value_slider.value\n",
    "    else:\n",
    "        car.throttle = 0\n",
    "throttle_enable_widget.observe(on_throttle_enable_change, names='value')\n",
    "\n",
    "def on_steering_value_slider_change(change):\n",
    "    car.steering = change['new']\n",
    "steering_value_slider.observe(on_steering_value_slider_change, names='value')\n",
    "\n",
    "def on_throttle_value_slider_change(change):\n",
    "    if throttle_enable_widget.value == True:\n",
    "        car.throttle = change['new']\n",
    "    else:\n",
    "        car.throttle = 0\n",
    "throttle_value_slider.observe(on_throttle_value_slider_change, names='value')"
   ]
  },
  {
   "cell_type": "markdown",
   "metadata": {},
   "source": [
    "Create widgets for capture control and ending the collection"
   ]
  },
  {
   "cell_type": "code",
   "execution_count": 5,
   "metadata": {},
   "outputs": [],
   "source": [
    "status_text_widget = ipywidgets.Text(value='', layout={'width': '700px'})\n",
    "capture_button = ipywidgets.Button(description=\"Capture\", layout={'width': '700px'})\n",
    "stop_button = ipywidgets.Button(description=\"Stop\", layout={'width': '200px'})"
   ]
  },
  {
   "cell_type": "markdown",
   "metadata": {},
   "source": [
    "Create camera and snapshot image widgets"
   ]
  },
  {
   "cell_type": "code",
   "execution_count": 6,
   "metadata": {},
   "outputs": [],
   "source": [
    "WIDGET_SIZE=2*IMG_SIZE\n",
    "camera_widget = ipywidgets.Image(width=WIDGET_SIZE, height=WIDGET_SIZE)\n",
    "snapshot_widget = ipywidgets.Image(width=WIDGET_SIZE, height=WIDGET_SIZE)"
   ]
  },
  {
   "cell_type": "markdown",
   "metadata": {},
   "source": [
    "Define the layout of all widgets on the screen"
   ]
  },
  {
   "cell_type": "code",
   "execution_count": 7,
   "metadata": {},
   "outputs": [],
   "source": [
    "display_widgets = ipywidgets.VBox([\n",
    "    ipywidgets.HBox([camera_widget, snapshot_widget]), \n",
    "    steering_value_slider,\n",
    "    throttle_value_slider,\n",
    "    ipywidgets.HBox([status_text_widget,throttle_enable_widget]), \n",
    "    ipywidgets.HBox([capture_button, stop_button])\n",
    "])"
   ]
  },
  {
   "cell_type": "markdown",
   "metadata": {},
   "source": [
    "Make sure the target folder exists but don't delete existing images. \n",
    "Define a function to create an identifier and the file name for the next image"
   ]
  },
  {
   "cell_type": "code",
   "execution_count": 8,
   "metadata": {},
   "outputs": [],
   "source": [
    "image_dir = \"Images\"\n",
    "    \n",
    "if os.path.exists(image_dir) == False:\n",
    "    os.mkdir(image_dir)\n",
    "\n",
    "def update_image_id():\n",
    "    global img_id,file_name,image_path\n",
    "    img_id = len([entry for entry in os.listdir(image_dir) if os.path.isfile(os.path.join(image_dir, entry))])\n",
    "    while True:\n",
    "        file_name = \"Image_%03d.jpg\" % (img_id)\n",
    "        if os.path.exists(file_name) == False:\n",
    "            break\n",
    "        img_id += 1\n",
    "\n",
    "    image_path = os.path.join(image_dir, file_name)\n",
    "    status_text_widget.value = \"Next: %s\" % (image_path)\n",
    "    return\n",
    "\n",
    "update_image_id()"
   ]
  },
  {
   "cell_type": "markdown",
   "metadata": {},
   "source": [
    "Define the event handler for the cpature button click to store ethe image"
   ]
  },
  {
   "cell_type": "code",
   "execution_count": 9,
   "metadata": {},
   "outputs": [],
   "source": [
    "def on_capture_button_click(_):\n",
    "    snapshot = camera.value.copy()\n",
    "    snapshot_widget.value = bgr8_to_jpeg(snapshot)\n",
    "    cv2.imwrite(image_path, snapshot)\n",
    "    update_image_id()\n",
    "    return\n",
    "\n",
    "capture_button.on_click(on_capture_button_click)"
   ]
  },
  {
   "cell_type": "markdown",
   "metadata": {},
   "source": [
    "Define the event handler for the stop button to stop the car, shut down camera and zip up all images"
   ]
  },
  {
   "cell_type": "code",
   "execution_count": 10,
   "metadata": {},
   "outputs": [],
   "source": [
    "def on_stop_button_click(_):\n",
    "    global car,camera\n",
    "    \n",
    "    camera.running = False\n",
    "    car.throttle = 0\n",
    "    car.steering = 0\n",
    "    \n",
    "    try:\n",
    "        camera.unobserve_all()\n",
    "    except:\n",
    "        print(\"Exception at camera.unobserve_all()\")\n",
    "        \n",
    "    try:\n",
    "        del camera\n",
    "    except:\n",
    "        print(\"Exception at del camera\")\n",
    "\n",
    "    try:\n",
    "        if os.path.exists(\"Images.zip\") == True:\n",
    "            os.remove(\"Images.zip\")\n",
    "        !zip -r Images.zip {image_dir}\n",
    "    except:\n",
    "        print(\"Exception at zipping images\") \n",
    "    return\n",
    "\n",
    "stop_button.on_click(on_stop_button_click)"
   ]
  },
  {
   "cell_type": "markdown",
   "metadata": {},
   "source": [
    "Turn on the camera and link the real-time updates to the camera widget.\n",
    "Then display all widgets on the screen.\n",
    "Move the car around manually and capture images for the ImageSegmenter."
   ]
  },
  {
   "cell_type": "code",
   "execution_count": 11,
   "metadata": {},
   "outputs": [
    {
     "data": {
      "application/vnd.jupyter.widget-view+json": {
       "model_id": "4baf3e1073a84c18a2c871d6543ac8e2",
       "version_major": 2,
       "version_minor": 0
      },
      "text/plain": [
       "VBox(children=(HBox(children=(Image(value=b'\\xff\\xd8\\xff\\xe0\\x00\\x10JFIF\\x00\\x01\\x01\\x00\\x00\\x01\\x00\\x01\\x00\\x…"
      ]
     },
     "metadata": {},
     "output_type": "display_data"
    }
   ],
   "source": [
    "camera.running = True\n",
    "camera.unobserve_all()\n",
    "traitlets.dlink((camera, 'value'), (camera_widget, 'value'), transform=bgr8_to_jpeg)\n",
    "\n",
    "display(display_widgets)"
   ]
  },
  {
   "cell_type": "markdown",
   "metadata": {},
   "source": [
    "When done, hit the stop button. All images in the folder will be zipped up into Images.zip, ready for download."
   ]
  }
 ],
 "metadata": {
  "kernelspec": {
   "display_name": "Python 3",
   "language": "python",
   "name": "python3"
  },
  "language_info": {
   "codemirror_mode": {
    "name": "ipython",
    "version": 3
   },
   "file_extension": ".py",
   "mimetype": "text/x-python",
   "name": "python",
   "nbconvert_exporter": "python",
   "pygments_lexer": "ipython3",
   "version": "3.6.9"
  }
 },
 "nbformat": 4,
 "nbformat_minor": 4
}
