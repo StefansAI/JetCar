{
 "cells": [
  {
   "cell_type": "markdown",
   "metadata": {},
   "source": [
    "## Notebook JetCar_Basic_Motion\n",
    "### Test motors, steering and LED functionality\n",
    "> This notebook helps testing basic hardware functionality of the car\n",
    "***"
   ]
  },
  {
   "cell_type": "markdown",
   "metadata": {},
   "source": [
    "<br>\n",
    "Import JetCar hardware class and instantiate car object"
   ]
  },
  {
   "cell_type": "code",
   "execution_count": 1,
   "metadata": {},
   "outputs": [],
   "source": [
    "from jetcar_car import JetCar\n",
    "car = JetCar()"
   ]
  },
  {
   "cell_type": "markdown",
   "metadata": {},
   "source": [
    "The ``JetCar`` implements the two main attributes ``throttle`` and ``steering``. There are few more <br>\n",
    "underneath for adjustments and to realize a differential control for both motors in sharp curves etc. \n",
    "\n",
    "The very first test after assembly should verify the correct connections. Make sure, the car is jacked up.\n",
    "\n",
    "Execute the following lines step by step to verify throttle and steering functions.<br>\n",
    "If the outcomes are not correct, please check the wiring and channel number assignments in JetCar."
   ]
  },
  {
   "cell_type": "code",
   "execution_count": 2,
   "metadata": {},
   "outputs": [],
   "source": [
    "car.throttle = 0.2 # move forward slowly"
   ]
  },
  {
   "cell_type": "code",
   "execution_count": 3,
   "metadata": {},
   "outputs": [],
   "source": [
    "car.throttle = 0"
   ]
  },
  {
   "cell_type": "code",
   "execution_count": 4,
   "metadata": {},
   "outputs": [],
   "source": [
    "car.steering = -0.5  # turn left"
   ]
  },
  {
   "cell_type": "code",
   "execution_count": 5,
   "metadata": {},
   "outputs": [],
   "source": [
    "car.steering = +0.5  # turn right"
   ]
  },
  {
   "cell_type": "code",
   "execution_count": 6,
   "metadata": {},
   "outputs": [],
   "source": [
    "car.steering = 0"
   ]
  },
  {
   "cell_type": "markdown",
   "metadata": {},
   "source": [
    "The blocks below create a number of horizontal and vertical sliders s widgets to visualize and control the functionality.<br>\n",
    "Some sliders are only for visualisation, while others react to the operator inputs. The function ``update_status`` <br>\n",
    "updates those sliders for visualization only. For the others the widget event handlers are translating their input <br>\n",
    "values to the car object. "
   ]
  },
  {
   "cell_type": "code",
   "execution_count": 7,
   "metadata": {},
   "outputs": [],
   "source": [
    "import ipywidgets.widgets as widgets\n",
    "\n",
    "# Create the visualization sliders with disabled=True\n",
    "steering_servo_slider = widgets.FloatSlider(min=-1.0, max=1.0, step=0.001, value=car.steering_servo.throttle, \\\n",
    "                                            description='steering servo',layout={'width': '500px'}, disabled=True)\n",
    "throttle_left_forward_slider = widgets.FloatSlider(min=0, max=1.0, step=0.001, value=car.throttle_left_forward.fraction, \\\n",
    "                                                 orientation='vertical', description='left_forward', disabled=True)\n",
    "throttle_right_forward_slider = widgets.FloatSlider(min=0, max=1.0, step=0.001, value=car.throttle_right_forward.fraction, \\\n",
    "                                                  orientation='vertical', description='right_forward', disabled=True)\n",
    "throttle_left_reverse_slider = widgets.FloatSlider(min=0, max=1.0, step=0.001, value=car.throttle_left_reverse.fraction, \\\n",
    "                                                 orientation='vertical', description='left_reverse', disabled=True)\n",
    "throttle_right_reverse_slider = widgets.FloatSlider(min=0, max=1.0, step=0.001, value=car.throttle_right_reverse.fraction, \\\n",
    "                                                  orientation='vertical', description='right_reverse', disabled=True)\n",
    "throttle_gain_left_slider = widgets.FloatSlider(min=0, max=2.0, step=0.001, value=car.throttle_gain_left, \\\n",
    "                                                orientation='vertical', description='gain left', disabled=True)\n",
    "throttle_gain_right_slider = widgets.FloatSlider(min=0, max=2.0, step=0.001, value=car.throttle_gain_right, \\\n",
    "                                                orientation='vertical', description='gain right', disabled=True)\n",
    "\n",
    "# Update the visualization slider positions from the values of the car object\n",
    "def update_status():\n",
    "    steering_servo_slider.value = car.steering_servo.throttle\n",
    "    throttle_left_forward_slider.value = car.throttle_left_forward.fraction\n",
    "    throttle_right_forward_slider.value = car.throttle_right_forward.fraction\n",
    "    throttle_left_reverse_slider.value = car.throttle_left_reverse.fraction\n",
    "    throttle_right_reverse_slider.value = car.throttle_right_reverse.fraction\n",
    "    throttle_gain_left_slider.value = car.throttle_gain_left\n",
    "    throttle_gain_right_slider.value = car.throttle_gain_right\n",
    "\n",
    "# Now create all user controllable sliders and their handlers\n",
    "throttle_value_slider = widgets.FloatSlider(min=-1.0, max=1.0, step=0.001, value=car.throttle, \\\n",
    "                                            orientation='vertical', description='throttle',layout={'height': '400px'})\n",
    "def on_throttle_value_slider_change(change):\n",
    "    car.throttle = change['new']\n",
    "    update_status()\n",
    "throttle_value_slider.observe(on_throttle_value_slider_change, names='value')\n",
    "\n",
    "steering_value_slider = widgets.FloatSlider(min=-1.0, max=1.0, step=0.001, description='steering',layout={'width': '500px'})\n",
    "def on_steering_value_slider_change(change):\n",
    "    car.steering = change['new']\n",
    "    update_status()\n",
    "steering_value_slider.observe(on_steering_value_slider_change, names='value')\n",
    "\n",
    "steering_offset_slider = widgets.FloatSlider(min=-1.0, max=1.0, step=0.001, value=car.steering_offset, \\\n",
    "                                             description='steer offs',layout={'width': '500px'})\n",
    "def on_steering_offset_slider_change(change):\n",
    "    car.steering_offset = change['new']\n",
    "    car.steering = steering_value_slider.value+0.001\n",
    "    update_status()\n",
    "steering_offset_slider.observe(on_steering_offset_slider_change, names='value')\n",
    "\n",
    "steering_gain_slider = widgets.FloatSlider(min=-1.0, max=1.0, step=0.001, value=car.steering_gain, \\\n",
    "                                           description='steer gain',layout={'width': '500px'})\n",
    "def on_steering_gain_slider_change(change):\n",
    "    car.steering_gain = change['new']\n",
    "    car.steering = steering_value_slider.value+0.001\n",
    "    update_status()\n",
    "steering_gain_slider.observe(on_steering_gain_slider_change, names='value')\n",
    "\n",
    "steering_throttle_threshold_slider = widgets.FloatSlider(min=0, max=1.0, step=0.001, value=car.steering_throttle_threshold, \\\n",
    "                                                         orientation='vertical', description='steer-thr-thrhld',layout={'height': '250px'})\n",
    "def on_steering_throttle_threshold_slider_change(change):\n",
    "    car.steering_throttle_threshold = change['new']\n",
    "    update_status()\n",
    "steering_throttle_threshold_slider.observe(on_steering_throttle_threshold_slider_change, names='value')\n",
    "\n",
    "steering_throttle_gain_slider = widgets.FloatSlider(min=0, max=2.0, step=0.001, value=car.steering_throttle_gain, \\\n",
    "                                                         orientation='vertical', description='steer-thr-gain',layout={'height': '250px'})\n",
    "def on_steering_throttle_gain_slider_change(change):\n",
    "    car.steering_throttle_gain = change['new']\n",
    "    update_status()\n",
    "steering_throttle_gain_slider.observe(on_steering_throttle_gain_slider_change, names='value')"
   ]
  },
  {
   "cell_type": "markdown",
   "metadata": {},
   "source": [
    "The following checkbox widgets are only for turning on and off the LEDs if installed.\n",
    "If some of them are swapped, change the wiring or the channel assignment in JetCar "
   ]
  },
  {
   "cell_type": "code",
   "execution_count": 8,
   "metadata": {},
   "outputs": [],
   "source": [
    "head_light_high_checkbox = widgets.Checkbox(value=False, description='Head Light High')\n",
    "def on_head_light_high_checkbox_change(change):\n",
    "    car.head_light_high = change['new']\n",
    "head_light_high_checkbox.observe(on_head_light_high_checkbox_change, names='value')\n",
    "\n",
    "head_light_low_checkbox = widgets.Checkbox(value=False, description='Head Light Low')\n",
    "def on_head_light_low_checkbox_change(change):\n",
    "    car.head_light_low = change['new']\n",
    "head_light_low_checkbox.observe(on_head_light_low_checkbox_change, names='value')\n",
    "\n",
    "tail_light_checkbox = widgets.Checkbox(value=False, description='Tail Light')\n",
    "def on_tail_light_checkbox_change(change):\n",
    "    car.tail_light = change['new']\n",
    "tail_light_checkbox.observe(on_tail_light_checkbox_change, names='value')\n",
    "\n",
    "brake_light_checkbox = widgets.Checkbox(value=False, description='Brake Light')\n",
    "def on_brake_light_checkbox_change(change):\n",
    "    car.brake_light = change['new']\n",
    "brake_light_checkbox.observe(on_brake_light_checkbox_change, names='value')\n",
    "\n",
    "signal_left_checkbox = widgets.Checkbox(value=False, description='Signal Left')\n",
    "def on_signal_left_checkbox_change(change):\n",
    "    car.signal_left = change['new']\n",
    "signal_left_checkbox .observe(on_signal_left_checkbox_change, names='value')\n",
    "\n",
    "signal_right_checkbox = widgets.Checkbox(value=False, description='Signal Right')\n",
    "def on_signal_right_checkbox_change(change):\n",
    "    car.signal_right = change['new']\n",
    "signal_right_checkbox .observe(on_signal_right_checkbox_change, names='value')"
   ]
  },
  {
   "cell_type": "markdown",
   "metadata": {},
   "source": [
    "Now arrange all widgets on the screen"
   ]
  },
  {
   "cell_type": "code",
   "execution_count": 9,
   "metadata": {},
   "outputs": [
    {
     "data": {
      "application/vnd.jupyter.widget-view+json": {
       "model_id": "360a5d4fb6d8455097a5c350fb2516fc",
       "version_major": 2,
       "version_minor": 0
      },
      "text/plain": [
       "HBox(children=(FloatSlider(value=0.08906059373729147, description='steering servo', disabled=True, layout=Layo…"
      ]
     },
     "metadata": {},
     "output_type": "display_data"
    },
    {
     "data": {
      "application/vnd.jupyter.widget-view+json": {
       "model_id": "201455f1709b4f8f9d0bdcf3b885c641",
       "version_major": 2,
       "version_minor": 0
      },
      "text/plain": [
       "FloatSlider(value=0.09, description='steer offs', layout=Layout(width='500px'), max=1.0, min=-1.0, step=0.001)"
      ]
     },
     "metadata": {},
     "output_type": "display_data"
    },
    {
     "data": {
      "application/vnd.jupyter.widget-view+json": {
       "model_id": "b75df0e6bd6c4a2aabddcc59b59c027f",
       "version_major": 2,
       "version_minor": 0
      },
      "text/plain": [
       "FloatSlider(value=-0.69, description='steer gain', layout=Layout(width='500px'), max=1.0, min=-1.0, step=0.001…"
      ]
     },
     "metadata": {},
     "output_type": "display_data"
    },
    {
     "data": {
      "application/vnd.jupyter.widget-view+json": {
       "model_id": "38bcbadf224a48fcbabf06fd19f9642b",
       "version_major": 2,
       "version_minor": 0
      },
      "text/plain": [
       "HBox(children=(FloatSlider(value=0.0, description='steering', layout=Layout(width='500px'), max=1.0, min=-1.0,…"
      ]
     },
     "metadata": {},
     "output_type": "display_data"
    },
    {
     "data": {
      "application/vnd.jupyter.widget-view+json": {
       "model_id": "15334bf8c4bc436cbf16e588b3e33a61",
       "version_major": 2,
       "version_minor": 0
      },
      "text/plain": [
       "Checkbox(value=False, description='Head Light High')"
      ]
     },
     "metadata": {},
     "output_type": "display_data"
    },
    {
     "data": {
      "application/vnd.jupyter.widget-view+json": {
       "model_id": "da40e34829e946b2b6a02b55b97ec287",
       "version_major": 2,
       "version_minor": 0
      },
      "text/plain": [
       "Checkbox(value=False, description='Head Light Low')"
      ]
     },
     "metadata": {},
     "output_type": "display_data"
    },
    {
     "data": {
      "application/vnd.jupyter.widget-view+json": {
       "model_id": "a358957ee8184235aa640fbc8aa709a8",
       "version_major": 2,
       "version_minor": 0
      },
      "text/plain": [
       "Checkbox(value=False, description='Tail Light')"
      ]
     },
     "metadata": {},
     "output_type": "display_data"
    },
    {
     "data": {
      "application/vnd.jupyter.widget-view+json": {
       "model_id": "62e3c66573ab47628d7ff17e6aae77e8",
       "version_major": 2,
       "version_minor": 0
      },
      "text/plain": [
       "Checkbox(value=False, description='Brake Light')"
      ]
     },
     "metadata": {},
     "output_type": "display_data"
    },
    {
     "data": {
      "application/vnd.jupyter.widget-view+json": {
       "model_id": "ad9e66d5eec14681a06b6fad81af4674",
       "version_major": 2,
       "version_minor": 0
      },
      "text/plain": [
       "Checkbox(value=False, description='Signal Left')"
      ]
     },
     "metadata": {},
     "output_type": "display_data"
    },
    {
     "data": {
      "application/vnd.jupyter.widget-view+json": {
       "model_id": "c1119cc2c72d415da8614fb530ede9a5",
       "version_major": 2,
       "version_minor": 0
      },
      "text/plain": [
       "Checkbox(value=False, description='Signal Right')"
      ]
     },
     "metadata": {},
     "output_type": "display_data"
    }
   ],
   "source": [
    "display(widgets.HBox([steering_servo_slider, throttle_left_forward_slider, throttle_right_forward_slider, \\\n",
    "                      throttle_left_reverse_slider, throttle_right_reverse_slider, throttle_gain_left_slider, throttle_gain_right_slider]))\n",
    "\n",
    "display(steering_offset_slider)\n",
    "display(steering_gain_slider)\n",
    "\n",
    "display(widgets.HBox([steering_value_slider, throttle_value_slider, \\\n",
    "                      steering_throttle_threshold_slider, steering_throttle_gain_slider]))\n",
    "    \n",
    "display(head_light_high_checkbox)        \n",
    "display(head_light_low_checkbox)        \n",
    "display(tail_light_checkbox)        \n",
    "display(brake_light_checkbox)   \n",
    "display(signal_left_checkbox)\n",
    "display(signal_right_checkbox)"
   ]
  },
  {
   "cell_type": "markdown",
   "metadata": {},
   "source": [
    "Use ``steering_gain`` and ``steering_offset`` to center and to adjust end values. Make sure, the servo does not start hitting the mechanical limits.\n",
    "\n",
    "Verify the functionality of the software differential. When the steering value is above the threshold, \n",
    "the 2 motors should be powered differently. Steering hard left should slow the left motor and speed up the right.\n",
    "The opposite should happen when steering is hard right. Also check forward and reverse.\n",
    "\n",
    "Update the offset and gain values in JetCar.py according to your hardware. "
   ]
  },
  {
   "cell_type": "markdown",
   "metadata": {},
   "source": [
    "That's it for this notebook!"
   ]
  }
 ],
 "metadata": {
  "kernelspec": {
   "display_name": "Python 3",
   "language": "python",
   "name": "python3"
  },
  "language_info": {
   "codemirror_mode": {
    "name": "ipython",
    "version": 3
   },
   "file_extension": ".py",
   "mimetype": "text/x-python",
   "name": "python",
   "nbconvert_exporter": "python",
   "pygments_lexer": "ipython3",
   "version": "3.6.9"
  }
 },
 "nbformat": 4,
 "nbformat_minor": 4
}
