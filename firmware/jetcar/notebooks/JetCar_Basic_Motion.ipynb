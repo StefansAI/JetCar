{
 "cells": [
  {
   "cell_type": "markdown",
   "metadata": {},
   "source": [
    "## Notebook JetCar_Basic_Motion\n",
    "### Test motors, steering and LED functionality\n",
    "> This notebook helps testing basic hardware functionality of the car\n",
    "***"
   ]
  },
  {
   "cell_type": "markdown",
   "metadata": {},
   "source": [
    "<br>\n",
    "Import JetCar hardware class and instantiate car object"
   ]
  },
  {
   "cell_type": "code",
   "execution_count": 1,
   "metadata": {},
   "outputs": [],
   "source": [
    "from jetcar_car import JetCar\n",
    "car = JetCar()"
   ]
  },
  {
   "cell_type": "markdown",
   "metadata": {},
   "source": [
    "The ``JetCar`` implements the two main attributes ``throttle`` and ``steering``. There are few more <br>\n",
    "underneath for adjustments and to realize a differential control for both motors in sharp curves etc. \n",
    "\n",
    "The very first test after assembly should verify the correct connections. Make sure, the car is jacked up.\n",
    "\n",
    "Execute the following lines step by step to verify throttle and steering functions.<br>\n",
    "If the outcomes are not correct, please check the wiring and channel number assignments in JetCar."
   ]
  },
  {
   "cell_type": "code",
   "execution_count": 2,
   "metadata": {},
   "outputs": [],
   "source": [
    "car.throttle = 0.2 # move forward slowly"
   ]
  },
  {
   "cell_type": "code",
   "execution_count": 3,
   "metadata": {},
   "outputs": [],
   "source": [
    "car.throttle = 0"
   ]
  },
  {
   "cell_type": "code",
   "execution_count": 4,
   "metadata": {},
   "outputs": [],
   "source": [
    "car.steering = -0.5  # turn left"
   ]
  },
  {
   "cell_type": "code",
   "execution_count": 5,
   "metadata": {},
   "outputs": [],
   "source": [
    "car.steering = +0.5  # turn right"
   ]
  },
  {
   "cell_type": "code",
   "execution_count": 6,
   "metadata": {},
   "outputs": [],
   "source": [
    "car.steering = 0"
   ]
  },
  {
   "cell_type": "markdown",
   "metadata": {},
   "source": [
    "The blocks below create a number of horizontal and vertical sliders s widgets to visualize and control the functionality.<br>\n",
    "Some sliders are only for visualisation, while others react to the operator inputs. The function ``update_status`` <br>\n",
    "updates those sliders for visualization only. For the others the widget event handlers are translating their input <br>\n",
    "values to the car object. "
   ]
  },
  {
   "cell_type": "code",
   "execution_count": 13,
   "metadata": {},
   "outputs": [],
   "source": [
    "import ipywidgets.widgets as widgets\n",
    "\n",
    "# Create the visualization sliders with disabled=True\n",
    "steering_servo_slider = widgets.FloatSlider(min=-1.0, max=1.0, step=0.001, value=car.steering_servo.throttle, \\\n",
    "                                            description='steering servo',layout={'width': '500px'}, disabled=True)\n",
    "throttle_left_forward_slider = widgets.FloatSlider(min=0, max=1.0, step=0.001, value=car.throttle_left_forward.fraction, \\\n",
    "                                                 orientation='vertical', description='left_forward', disabled=True)\n",
    "throttle_right_forward_slider = widgets.FloatSlider(min=0, max=1.0, step=0.001, value=car.throttle_right_forward.fraction, \\\n",
    "                                                  orientation='vertical', description='right_forward', disabled=True)\n",
    "throttle_left_reverse_slider = widgets.FloatSlider(min=0, max=1.0, step=0.001, value=car.throttle_left_reverse.fraction, \\\n",
    "                                                 orientation='vertical', description='left_reverse', disabled=True)\n",
    "throttle_right_reverse_slider = widgets.FloatSlider(min=0, max=1.0, step=0.001, value=car.throttle_right_reverse.fraction, \\\n",
    "                                                  orientation='vertical', description='right_reverse', disabled=True)\n",
    "throttle_ratio_slider = widgets.FloatSlider(min=0, max=2.0, step=0.001, value=car.throttle_ratio, \\\n",
    "                                                orientation='vertical', description='throttle ratio', disabled=True)\n",
    "\n",
    "# Update the visualization slider positions from the values of the car object\n",
    "def update_status():\n",
    "    steering_servo_slider.value = car.steering_servo.throttle\n",
    "    throttle_left_forward_slider.value = car.throttle_left_forward.fraction\n",
    "    throttle_right_forward_slider.value = car.throttle_right_forward.fraction\n",
    "    throttle_left_reverse_slider.value = car.throttle_left_reverse.fraction\n",
    "    throttle_right_reverse_slider.value = car.throttle_right_reverse.fraction\n",
    "    throttle_ratio_slider.value = car.throttle_ratio\n",
    "\n",
    "# Now create all user controllable sliders and their handlers\n",
    "throttle_value_slider = widgets.FloatSlider(min=-1.0, max=1.0, step=0.001, value=car.throttle, \\\n",
    "                                            orientation='vertical', description='throttle',layout={'height': '400px'})\n",
    "def on_throttle_value_slider_change(change):\n",
    "    car.throttle = change['new']\n",
    "    update_status()\n",
    "throttle_value_slider.observe(on_throttle_value_slider_change, names='value')\n",
    "\n",
    "steering_value_slider = widgets.FloatSlider(min=-1.0, max=1.0, step=0.001, description='steering',layout={'width': '500px'})\n",
    "def on_steering_value_slider_change(change):\n",
    "    car.steering = change['new']\n",
    "    update_status()\n",
    "steering_value_slider.observe(on_steering_value_slider_change, names='value')\n",
    "\n",
    "steering_offset_slider = widgets.FloatSlider(min=-1.0, max=1.0, step=0.001, value=car.steering_offset, \\\n",
    "                                             description='steer offs',layout={'width': '500px'})\n",
    "def on_steering_offset_slider_change(change):\n",
    "    car.steering_offset = change['new']\n",
    "    car.steering = steering_value_slider.value+0.001\n",
    "    update_status()\n",
    "steering_offset_slider.observe(on_steering_offset_slider_change, names='value')\n",
    "\n",
    "steering_gain_slider = widgets.FloatSlider(min=-1.0, max=1.0, step=0.001, value=car.steering_gain, \\\n",
    "                                           description='steer gain',layout={'width': '500px'})\n",
    "def on_steering_gain_slider_change(change):\n",
    "    car.steering_gain = change['new']\n",
    "    car.steering = steering_value_slider.value+0.001\n",
    "    update_status()\n",
    "steering_gain_slider.observe(on_steering_gain_slider_change, names='value')\n",
    "\n",
    "steering_throttle_threshold_slider = widgets.FloatSlider(min=0, max=1.0, step=0.001, value=car.steering_throttle_threshold, \\\n",
    "                                                         orientation='vertical', description='steer-thr-thrhld',layout={'height': '250px'})\n",
    "def on_steering_throttle_threshold_slider_change(change):\n",
    "    car.steering_throttle_threshold = change['new']\n",
    "    update_status()\n",
    "steering_throttle_threshold_slider.observe(on_steering_throttle_threshold_slider_change, names='value')"
   ]
  },
  {
   "cell_type": "markdown",
   "metadata": {},
   "source": [
    "The following checkbox widgets are only for turning on and off the LEDs if installed.\n",
    "If some of them are swapped, change the wiring or the channel assignment in JetCar "
   ]
  },
  {
   "cell_type": "code",
   "execution_count": 14,
   "metadata": {},
   "outputs": [],
   "source": [
    "head_light_high_checkbox = widgets.Checkbox(value=False, description='Head Light High')\n",
    "def on_head_light_high_checkbox_change(change):\n",
    "    car.head_light_high = change['new']\n",
    "head_light_high_checkbox.observe(on_head_light_high_checkbox_change, names='value')\n",
    "\n",
    "head_light_low_checkbox = widgets.Checkbox(value=False, description='Head Light Low')\n",
    "def on_head_light_low_checkbox_change(change):\n",
    "    car.head_light_low = change['new']\n",
    "head_light_low_checkbox.observe(on_head_light_low_checkbox_change, names='value')\n",
    "\n",
    "tail_light_checkbox = widgets.Checkbox(value=False, description='Tail Light')\n",
    "def on_tail_light_checkbox_change(change):\n",
    "    car.tail_light = change['new']\n",
    "tail_light_checkbox.observe(on_tail_light_checkbox_change, names='value')\n",
    "\n",
    "brake_light_checkbox = widgets.Checkbox(value=False, description='Brake Light')\n",
    "def on_brake_light_checkbox_change(change):\n",
    "    car.brake_light = change['new']\n",
    "brake_light_checkbox.observe(on_brake_light_checkbox_change, names='value')\n",
    "\n",
    "signal_left_checkbox = widgets.Checkbox(value=False, description='Signal Left')\n",
    "def on_signal_left_checkbox_change(change):\n",
    "    car.signal_left = change['new']\n",
    "signal_left_checkbox .observe(on_signal_left_checkbox_change, names='value')\n",
    "\n",
    "signal_right_checkbox = widgets.Checkbox(value=False, description='Signal Right')\n",
    "def on_signal_right_checkbox_change(change):\n",
    "    car.signal_right = change['new']\n",
    "signal_right_checkbox .observe(on_signal_right_checkbox_change, names='value')"
   ]
  },
  {
   "cell_type": "markdown",
   "metadata": {},
   "source": [
    "Now arrange all widgets on the screen"
   ]
  },
  {
   "cell_type": "code",
   "execution_count": 15,
   "metadata": {},
   "outputs": [
    {
     "data": {
      "application/vnd.jupyter.widget-view+json": {
       "model_id": "389463e83362415f85343b50dfdac6dd",
       "version_major": 2,
       "version_minor": 0
      },
      "text/plain": [
       "HBox(children=(FloatSlider(value=-0.008540056933712847, description='steering servo', disabled=True, layout=La…"
      ]
     },
     "metadata": {},
     "output_type": "display_data"
    },
    {
     "data": {
      "application/vnd.jupyter.widget-view+json": {
       "model_id": "ff77cd0e5524492e97cc56a3f16919bf",
       "version_major": 2,
       "version_minor": 0
      },
      "text/plain": [
       "FloatSlider(value=-0.08, description='steer offs', layout=Layout(width='500px'), max=1.0, min=-1.0, step=0.001…"
      ]
     },
     "metadata": {},
     "output_type": "display_data"
    },
    {
     "data": {
      "application/vnd.jupyter.widget-view+json": {
       "model_id": "b2a6eff8750d43e38d94ae0eb7062c8b",
       "version_major": 2,
       "version_minor": 0
      },
      "text/plain": [
       "FloatSlider(value=-0.69, description='steer gain', layout=Layout(width='500px'), max=1.0, min=-1.0, step=0.001…"
      ]
     },
     "metadata": {},
     "output_type": "display_data"
    },
    {
     "data": {
      "application/vnd.jupyter.widget-view+json": {
       "model_id": "e55472313e81468ea3cc4c75197b4b7a",
       "version_major": 2,
       "version_minor": 0
      },
      "text/plain": [
       "HBox(children=(FloatSlider(value=0.0, description='steering', layout=Layout(width='500px'), max=1.0, min=-1.0,…"
      ]
     },
     "metadata": {},
     "output_type": "display_data"
    },
    {
     "data": {
      "application/vnd.jupyter.widget-view+json": {
       "model_id": "8e7ec90f99da4d43a7fe3f2fbbfc95da",
       "version_major": 2,
       "version_minor": 0
      },
      "text/plain": [
       "Checkbox(value=False, description='Head Light High')"
      ]
     },
     "metadata": {},
     "output_type": "display_data"
    },
    {
     "data": {
      "application/vnd.jupyter.widget-view+json": {
       "model_id": "6119594d16b14eb095e821fe2658fa5a",
       "version_major": 2,
       "version_minor": 0
      },
      "text/plain": [
       "Checkbox(value=False, description='Head Light Low')"
      ]
     },
     "metadata": {},
     "output_type": "display_data"
    },
    {
     "data": {
      "application/vnd.jupyter.widget-view+json": {
       "model_id": "bf8b8609d3554a339b00df91ef630388",
       "version_major": 2,
       "version_minor": 0
      },
      "text/plain": [
       "Checkbox(value=False, description='Tail Light')"
      ]
     },
     "metadata": {},
     "output_type": "display_data"
    },
    {
     "data": {
      "application/vnd.jupyter.widget-view+json": {
       "model_id": "fcc0dcff0c3643c6bc9fbb48ac27f3f6",
       "version_major": 2,
       "version_minor": 0
      },
      "text/plain": [
       "Checkbox(value=False, description='Brake Light')"
      ]
     },
     "metadata": {},
     "output_type": "display_data"
    },
    {
     "data": {
      "application/vnd.jupyter.widget-view+json": {
       "model_id": "542ddb4651c545cbb71d15ea5ab404ce",
       "version_major": 2,
       "version_minor": 0
      },
      "text/plain": [
       "Checkbox(value=False, description='Signal Left')"
      ]
     },
     "metadata": {},
     "output_type": "display_data"
    },
    {
     "data": {
      "application/vnd.jupyter.widget-view+json": {
       "model_id": "1a80d5a91b224db7b78223c8febd82c5",
       "version_major": 2,
       "version_minor": 0
      },
      "text/plain": [
       "Checkbox(value=False, description='Signal Right')"
      ]
     },
     "metadata": {},
     "output_type": "display_data"
    }
   ],
   "source": [
    "display(widgets.HBox([steering_servo_slider, throttle_left_forward_slider, throttle_right_forward_slider, \\\n",
    "                      throttle_left_reverse_slider, throttle_right_reverse_slider, throttle_ratio_slider]))\n",
    "\n",
    "display(steering_offset_slider)\n",
    "display(steering_gain_slider)\n",
    "\n",
    "display(widgets.HBox([steering_value_slider, throttle_value_slider, \\\n",
    "                      steering_throttle_threshold_slider]))\n",
    "    \n",
    "display(head_light_high_checkbox)        \n",
    "display(head_light_low_checkbox)        \n",
    "display(tail_light_checkbox)        \n",
    "display(brake_light_checkbox)   \n",
    "display(signal_left_checkbox)\n",
    "display(signal_right_checkbox)"
   ]
  },
  {
   "cell_type": "markdown",
   "metadata": {},
   "source": [
    "Use ``steering_gain`` and ``steering_offset`` to center and to adjust end values. Make sure, the servo does not start hitting the mechanical limits.\n",
    "\n",
    "Verify the functionality of the software differential. When the steering value is above the threshold, \n",
    "the 2 motors should be powered differently. Steering hard left should slow the left motor and speed up the right.\n",
    "The opposite should happen when steering is hard right. Also check forward and reverse.\n",
    "\n",
    "Update the offset and gain values in JetCar.py according to your hardware. "
   ]
  },
  {
   "cell_type": "markdown",
   "metadata": {},
   "source": [
    "That's it for this notebook!"
   ]
  }
 ],
 "metadata": {
  "kernelspec": {
   "display_name": "Python 3",
   "language": "python",
   "name": "python3"
  },
  "language_info": {
   "codemirror_mode": {
    "name": "ipython",
    "version": 3
   },
   "file_extension": ".py",
   "mimetype": "text/x-python",
   "name": "python",
   "nbconvert_exporter": "python",
   "pygments_lexer": "ipython3",
   "version": "3.6.9"
  }
 },
 "nbformat": 4,
 "nbformat_minor": 4
}
