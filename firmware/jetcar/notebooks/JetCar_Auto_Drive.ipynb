{
 "cells": [
  {
   "cell_type": "markdown",
   "metadata": {},
   "source": [
    "## Notebook JetCar_Auto_Drive\n",
    "### Let it drive on the streets autonomously \n",
    "> This notebook enables the car to drive autonomously with user control of the next turns\n",
    "***"
   ]
  },
  {
   "cell_type": "markdown",
   "metadata": {},
   "source": [
    "<br>\n",
    "Import major libraries for this notebook"
   ]
  },
  {
   "cell_type": "code",
   "execution_count": 1,
   "metadata": {},
   "outputs": [],
   "source": [
    "import os\n",
    "import torch\n",
    "import torchvision\n",
    "import cv2\n",
    "import ipywidgets\n",
    "import traitlets\n",
    "from IPython.display import display\n",
    "from jetcam.utils import bgr8_to_jpeg\n",
    "from utils import preprocess,load_color_map\n",
    "import numpy as np\n",
    "from torch2trt import torch2trt\n",
    "import segmentation_models_pytorch as smp\n",
    "device = torch.device('cuda')"
   ]
  },
  {
   "cell_type": "markdown",
   "metadata": {},
   "source": [
    "<div class=\"alert alert-block alert-info\">\n",
    "<b>Note:</b> After creating a new streetmap with training, make sure to update the N_CLASSES, and SegmClass assignments in ``jetcar_definitions.py`` from StreetMaker output file JetCar_Classes.txt.\n",
    "</div>"
   ]
  },
  {
   "cell_type": "code",
   "execution_count": null,
   "metadata": {},
   "outputs": [],
   "source": [
    "from jetcar_definitions import *"
   ]
  },
  {
   "cell_type": "markdown",
   "metadata": {},
   "source": [
    "Read the color assignments from StreetMaker to colorcode the classes correctly"
   ]
  },
  {
   "cell_type": "code",
   "execution_count": null,
   "metadata": {},
   "outputs": [],
   "source": [
    "color_map = load_color_map(\"JetCar_ColorMap.csv\")"
   ]
  },
  {
   "cell_type": "markdown",
   "metadata": {},
   "source": [
    "Instantiate the NN model object "
   ]
  },
  {
   "cell_type": "code",
   "execution_count": null,
   "metadata": {},
   "outputs": [],
   "source": [
    "model = smp.UnetPlusPlus(encoder_name=\"timm-mobilenetv3_large_minimal_100\", classes=N_CLASSES, activation='argmax2d')"
   ]
  },
  {
   "cell_type": "markdown",
   "metadata": {},
   "source": [
    "Load the model weights created by the training model"
   ]
  },
  {
   "cell_type": "code",
   "execution_count": null,
   "metadata": {},
   "outputs": [],
   "source": [
    "model.load_state_dict(torch.load('JetCar_Model_MobileNetV3_Medium_Map_Traing_N19.pth')); \n",
    "model = model.cuda().eval().half()\n",
    "model = model.to(device)"
   ]
  },
  {
   "cell_type": "markdown",
   "metadata": {},
   "source": [
    "Create the real-time camera image and mask widgets"
   ]
  },
  {
   "cell_type": "code",
   "execution_count": null,
   "metadata": {},
   "outputs": [],
   "source": [
    "WIDGET_SIZE=2*IMG_SIZE\n",
    "camera_widget = ipywidgets.Image(width=WIDGET_SIZE, height=WIDGET_SIZE)\n",
    "mask_widget = ipywidgets.Image(width=WIDGET_SIZE, height=WIDGET_SIZE)"
   ]
  },
  {
   "cell_type": "markdown",
   "metadata": {},
   "source": [
    "Create text area widgets for displaying the detected objects in the lane center, the lane to the left and the lane to the right"
   ]
  },
  {
   "cell_type": "code",
   "execution_count": null,
   "metadata": {},
   "outputs": [],
   "source": [
    "lane_left_objects_text = ipywidgets.Textarea(value='', rows=14, layout={'width': '270px', 'height': '370px'})\n",
    "lane_center_objects_text = ipywidgets.Textarea(value='', rows=14, layout={'width': '270px', 'height': '370px'})\n",
    "lane_right_objects_text = ipywidgets.Textarea(value='', rows=14, layout={'width': '270px', 'height': '370px'})"
   ]
  },
  {
   "cell_type": "markdown",
   "metadata": {},
   "source": [
    "Create informational text output widgets and the stop button"
   ]
  },
  {
   "cell_type": "code",
   "execution_count": null,
   "metadata": {},
   "outputs": [],
   "source": [
    "process_status_text_widget = ipywidgets.Text(value='', layout={'width': '1000px'})\n",
    "timing_text_widget = ipywidgets.Text(value='', layout={'width': '1000px'}, visible=False)\n",
    "exception_text_widget = ipywidgets.Text(value='', layout={'width': '1000px'})\n",
    "stop_button = ipywidgets.Button(description=\"Stop\", layout={'width': '1000px'})"
   ]
  },
  {
   "cell_type": "markdown",
   "metadata": {},
   "source": [
    "Import JetCar hardware class and instantiate car object"
   ]
  },
  {
   "cell_type": "code",
   "execution_count": null,
   "metadata": {},
   "outputs": [],
   "source": [
    "from jetcar_car import JetCar\n",
    "car = JetCar()"
   ]
  },
  {
   "cell_type": "markdown",
   "metadata": {},
   "source": [
    "Create a number of checkboxes to control outputs and some car features "
   ]
  },
  {
   "cell_type": "code",
   "execution_count": null,
   "metadata": {},
   "outputs": [],
   "source": [
    "auto_steering_widget = ipywidgets.Checkbox(value=True, description='Auto Steering',layout={'width': '225px'} )\n",
    "auto_throttle_widget = ipywidgets.Checkbox(value=True, description='Auto Throttle', layout={'width': '225px'} )\n",
    "mask_update_widget   = ipywidgets.Checkbox(value=True, description='Mask Update', layout={'width': '225px'} )\n",
    "object_update_widget = ipywidgets.Checkbox(value=True, description='Object Lists Update', layout={'width': '225px'} )\n",
    "head_light_low_widget = ipywidgets.Checkbox(value=False, description='Head Light Low Beam', layout={'width': '225px'} )\n",
    "head_light_high_widget = ipywidgets.Checkbox(value=False, description='Head Light High Beam', layout={'width': '225px'} )"
   ]
  },
  {
   "cell_type": "markdown",
   "metadata": {},
   "source": [
    "Create steering slider for visualization or manual control if enabled.<br>\n",
    "The throttle slider defines the maximum throttle in autonomous mode or gives full throttle control in manual mode.<br>\n",
    "The throttle progress shows the scaled autonomous throttle control when driving. "
   ]
  },
  {
   "cell_type": "code",
   "execution_count": null,
   "metadata": {},
   "outputs": [],
   "source": [
    "steering_value_slider = ipywidgets.FloatSlider(min=-1.0, max=1.0, step=0.001, description='steering', layout={'width': '1000px'}, disabled=True)\n",
    "throttle_value_slider = ipywidgets.FloatSlider(min=-1.0, max=1.0, step=0.001, value=car.throttle, description='throttle max',layout={'width': '1000px'})\n",
    "throttle_value_progress = ipywidgets.FloatProgress(value=0,min=0.5,max=1,step=0.01,description='throttle',orientation='vertical',layout={'height': '100px'})"
   ]
  },
  {
   "cell_type": "markdown",
   "metadata": {},
   "source": [
    "The following event handler allow switching between autonomous steering and throttling and manual."
   ]
  },
  {
   "cell_type": "code",
   "execution_count": null,
   "metadata": {},
   "outputs": [],
   "source": [
    "def on_auto_steering_widget_change(change):\n",
    "    steering_value_slider.disabled = change['new'] \n",
    "    if change['new'] == False:\n",
    "        car.steering = steering_value_slider.value\n",
    "auto_steering_widget.observe(on_auto_steering_widget_change, names='value')  \n",
    "\n",
    "def on_auto_throttle_widget_change(change):\n",
    "    if change['new'] == False:\n",
    "        car.throttle = throttle_value_slider.value\n",
    "auto_throttle_widget.observe(on_auto_throttle_widget_change, names='value')\n",
    "\n",
    "def on_steering_value_slider_change(change):\n",
    "    if auto_steering_widget.value == False:\n",
    "        car.steering = change['new']\n",
    "steering_value_slider.observe(on_steering_value_slider_change, names='value')\n",
    "\n",
    "def on_throttle_value_slider_change(change):\n",
    "    if auto_throttle_widget.value == False:\n",
    "        car.throttle = change['new']\n",
    "throttle_value_slider.observe(on_throttle_value_slider_change, names='value')"
   ]
  },
  {
   "cell_type": "markdown",
   "metadata": {},
   "source": [
    "Create radiobutton style checkboxes and event handler to chose the directions for the next possible turn."
   ]
  },
  {
   "cell_type": "code",
   "execution_count": null,
   "metadata": {},
   "outputs": [],
   "source": [
    "direction_left_widget = ipywidgets.Checkbox(value=False, description='Next Turn Left', layout={'width': '225px'})\n",
    "direction_straight_widget = ipywidgets.Checkbox(value=True, description='Next Go Straight', layout={'width': '225px'})\n",
    "direction_right_widget = ipywidgets.Checkbox(value=False, description='Next Turn Right', layout={'width': '225px'})\n",
    "next_turn_direction = Direction.Straight\n",
    "\n",
    "def on_direction_left_change(change):\n",
    "    global next_turn_direction, direction_straight_widget, direction_right_widget\n",
    "    if change['new'] == True:\n",
    "        next_turn_direction = Direction.Left\n",
    "        direction_straight_widget.value = False\n",
    "        direction_right_widget.value = False\n",
    "direction_left_widget.observe(on_direction_left_change, names='value')\n",
    "\n",
    "def on_direction_straight_change(change):\n",
    "    global next_turn_direction, direction_left_widget, direction_right_widget\n",
    "    if change['new'] == True:\n",
    "        next_turn_direction = Direction.Straight\n",
    "        direction_left_widget.value = False\n",
    "        direction_right_widget.value = False\n",
    "direction_straight_widget.observe(on_direction_straight_change, names='value')\n",
    "\n",
    "def on_direction_right_change(change):\n",
    "    global next_turn_direction, direction_left_widget, direction_straight_widget\n",
    "    if change['new'] == True:\n",
    "        next_turn_direction = Direction.Right\n",
    "        direction_straight_widget.value = False\n",
    "        direction_left_widget.value = False\n",
    "direction_right_widget.observe(on_direction_right_change, names='value')"
   ]
  },
  {
   "cell_type": "code",
   "execution_count": null,
   "metadata": {},
   "outputs": [],
   "source": [
    "def on_head_light_low_change(change):\n",
    "    if change['new'] == True:\n",
    "        car.head_light_low = 1\n",
    "        car.tail_light = 1\n",
    "    else:\n",
    "        car.head_light_low = 0\n",
    "        if head_light_high_widget.value == False:\n",
    "            car.tail_light = 0\n",
    "head_light_low_widget.observe(on_head_light_low_change, names='value')\n",
    "\n",
    "def on_head_light_high_change(change):\n",
    "    if change['new'] == True:\n",
    "        car.head_light_high = 1\n",
    "        car.tail_light = 1\n",
    "    else:\n",
    "        car.head_light_high = 0\n",
    "        if head_light_low_widget.value == False:\n",
    "            car.tail_light = 0\n",
    "head_light_high_widget.observe(on_head_light_high_change, names='value')\n"
   ]
  },
  {
   "cell_type": "markdown",
   "metadata": {},
   "source": [
    "Create indicators for internally detected fields while driving autonomously"
   ]
  },
  {
   "cell_type": "code",
   "execution_count": null,
   "metadata": {},
   "outputs": [],
   "source": [
    "intersection_widget = ipywidgets.Valid(value=True, description=\"intersection:\",layout={'width': '200px'})\n",
    "turn_left_allowed_widget = ipywidgets.Valid(value=False, description=\"turn left:\",layout={'width': '200px'})\n",
    "go_straight_allowed_widget = ipywidgets.Valid(value=False, description=\"go straight:\",layout={'width': '200px'})\n",
    "turn_right_allowed_widget = ipywidgets.Valid(value=False, description=\"turn right:\",layout={'width': '200px'})\n",
    "stop_detected_widget = ipywidgets.Valid(value=False, description=\"stop:\",layout={'width': '200px'})"
   ]
  },
  {
   "cell_type": "markdown",
   "metadata": {},
   "source": [
    "Create the layout of all widgets on the screen"
   ]
  },
  {
   "cell_type": "code",
   "execution_count": null,
   "metadata": {},
   "outputs": [],
   "source": [
    "display_widgets = ipywidgets.VBox([\n",
    "    ipywidgets.HBox([camera_widget, mask_widget, lane_left_objects_text, lane_center_objects_text, lane_right_objects_text]), \n",
    "    ipywidgets.HBox([auto_steering_widget,auto_throttle_widget,mask_update_widget,object_update_widget]),\n",
    "    ipywidgets.HBox([process_status_text_widget,head_light_high_widget]),\n",
    "    ipywidgets.HBox([timing_text_widget,head_light_low_widget]),\n",
    "    ipywidgets.HBox([\n",
    "        ipywidgets.VBox([ipywidgets.HBox([intersection_widget,turn_left_allowed_widget,go_straight_allowed_widget,turn_right_allowed_widget,stop_detected_widget]),\n",
    "                        steering_value_slider,\n",
    "                        throttle_value_slider]),\n",
    "        throttle_value_progress,\n",
    "    ]),       \n",
    "    exception_text_widget,\n",
    "    ipywidgets.HBox([direction_left_widget, direction_straight_widget, direction_right_widget]),\n",
    "    stop_button\n",
    "])"
   ]
  },
  {
   "cell_type": "markdown",
   "metadata": {},
   "source": [
    "Import the lane tracker and instantiate the object"
   ]
  },
  {
   "cell_type": "code",
   "execution_count": null,
   "metadata": {},
   "outputs": [],
   "source": [
    "from jetcar_tracker import *\n",
    "tracker = LaneTracker()"
   ]
  },
  {
   "cell_type": "markdown",
   "metadata": {},
   "source": [
    "Import and instantiate the timing object for analysis"
   ]
  },
  {
   "cell_type": "code",
   "execution_count": null,
   "metadata": {},
   "outputs": [],
   "source": [
    "from simple_timing import SimpleTiming\n",
    "timing = SimpleTiming(6,10000)"
   ]
  },
  {
   "cell_type": "markdown",
   "metadata": {},
   "source": [
    "Define a function for filling a textarea widget with detected objects.\n",
    "> Since the object lists start from the car front, the objects closer to it will be<br>\n",
    "listed at the bottom to better relate to the real-time image and mask display next to it."
   ]
  },
  {
   "cell_type": "code",
   "execution_count": null,
   "metadata": {},
   "outputs": [],
   "source": [
    "def get_object_list_text(objects):\n",
    "    s = \"\"\n",
    "    for i in range(20-len(objects)):\n",
    "        s += f'\\n'\n",
    "    for i in reversed(range(len(objects))):\n",
    "        s += f'\\n{objects[i]}'\n",
    "    return s"
   ]
  },
  {
   "cell_type": "markdown",
   "metadata": {},
   "source": [
    "Filll the three text area widgets with the objects from left lane, driving lane and right lane"
   ]
  },
  {
   "cell_type": "code",
   "execution_count": null,
   "metadata": {},
   "outputs": [],
   "source": [
    "def fill_object_list_widgets():\n",
    "    lane_left_objects_text.value = get_object_list_text(tracker.lane_left.objects)\n",
    "    lane_center_objects_text.value = get_object_list_text(tracker.lane_center.objects)\n",
    "    lane_right_objects_text.value = get_object_list_text(tracker.lane_right.objects)                "
   ]
  },
  {
   "cell_type": "markdown",
   "metadata": {},
   "source": [
    "The following function saves the current real-time image and the created mask from the model inference into files for later offline debugging."
   ]
  },
  {
   "cell_type": "code",
   "execution_count": null,
   "metadata": {},
   "outputs": [],
   "source": [
    "def save_img_and_mask(recording_dir, img_count, image, mask):\n",
    "    filename = 'Img_%03d.jpg' % (img_count)\n",
    "    image_path = os.path.join(recording_dir, filename)\n",
    "    cv2.imwrite(image_path, image)\n",
    "\n",
    "    filename = 'Mask_%03d.npy' % (img_count)\n",
    "    mask_path = os.path.join(recording_dir, filename)\n",
    "    np.save(mask_path, mask)\n"
   ]
  },
  {
   "cell_type": "markdown",
   "metadata": {},
   "source": [
    "Import and instantiate camera object with full field of view scaled down to mdel image size"
   ]
  },
  {
   "cell_type": "code",
   "execution_count": null,
   "metadata": {},
   "outputs": [],
   "source": [
    "from jetcam.csi_camera import CSICamera\n",
    "camera = CSICamera(width=IMG_SIZE, height=IMG_SIZE, capture_width=3280, capture_height=2464, capture_fps=4)\n",
    "img_count = 0"
   ]
  },
  {
   "cell_type": "markdown",
   "metadata": {},
   "source": [
    "The following cell allows setting up debug and start conditions. <br>\n",
    "It can be useful to test a certain scenery with turning on recording and direction preset left or right turn where the issue happens."
   ]
  },
  {
   "cell_type": "code",
   "execution_count": null,
   "metadata": {},
   "outputs": [],
   "source": [
    "from utils import make_or_clear_directory\n",
    "\n",
    "recording_dir = \"DebugData/\"\n",
    "make_or_clear_directory(recording_dir)\n",
    "\n",
    "SAVE_IMG_AND_MASK = True   # set to True for recording image and mask in real-time for offline debugging\n",
    "throttle_value_slider.value = 0.25\n",
    "direction_straight_widget.value = True\n",
    "auto_steering_widget.value = True\n",
    "\n",
    "log_file = open(os.path.join(recording_dir, \"log_file.csv\"), 'w')\n",
    "log_file.write(\"cnt,nextdir,nst,st,dir,stfcnt,stpcnt,thro,stctrl,len,ren\\n\")\n",
    "\n",
    "def write_log_file_line():\n",
    "    log_file.write(\"%d,%s,%.3f,%.3f,%s,%d,%d,%.3f,%s,%s,%s\\n\" % \\\n",
    "            (img_count,Direction(next_turn_direction).name, tracker.new_steering_value, tracker.steering_value, Direction(tracker.direction).name, tracker.steering_fixed_count, tracker.stop_count, tracker.throttle_value, \\\n",
    "             tracker.steering_control, tracker.signal_left_enable, tracker.signal_right_enable))\n"
   ]
  },
  {
   "cell_type": "markdown",
   "metadata": {},
   "source": [
    "Below is the camera event handler function to process each incoming frame.<br>\n",
    "To avoid any lag and to keep the execution synchronized, the execution time is measured and <br>\n",
    "checked against the frame time. It is better to skip a frame than falling more and more behind.<br>\n",
    "The time measurements are buffered and can be displayed as a graph after real-time execution is stopped.<br>\n",
    ">Each camera frame is passed through the model to create the segmentation mask.<br>\n",
    "The mask is then then passed on to the tracker object for processing together with the next turn request.<br>\n",
    "Results from the tracker object are then passed to the car object<br>\n",
    "Everything else is for visualization and debugging"
   ]
  },
  {
   "cell_type": "code",
   "execution_count": null,
   "metadata": {},
   "outputs": [],
   "source": [
    "skip_threshold = 1/camera.capture_fps\n",
    "\n",
    "def execute(change):\n",
    "    global image,classes,mask,mask_img, throttle, img_count, tick_counter\n",
    "    \n",
    "    # get the new frame\n",
    "    image = change['new']  \n",
    "    \n",
    "    # Check the timing, if last processing took too long, just exit\n",
    "    if timing.time_delta[-1] > skip_threshold:\n",
    "        timing.time_delta[-1] = 0\n",
    "        return\n",
    "    \n",
    "    # Start timing for this cycle\n",
    "    timing.measure_time(0,0)\n",
    "\n",
    "    # Infer camera frame and get the 8bit class mask\n",
    "    mask = model(preprocess(image)).detach().squeeze().cpu().numpy().astype(np.uint8)\n",
    "\n",
    "    # If enabled, save image frame and mask \n",
    "    if SAVE_IMG_AND_MASK == True:\n",
    "        save_img_and_mask(recording_dir, img_count, image, mask)\n",
    "\n",
    "    # Measure and store the time for the mask creation\n",
    "    timing.measure_time(1,0)\n",
    "\n",
    "    # Except in the initial execution, now let the tracker object process the mask\n",
    "    if img_count > 0:\n",
    "        try:\n",
    "            tracker.process(mask, next_turn_direction)\n",
    "        except Exception as e:\n",
    "            exception_text_widget.value = str(e)\n",
    "       \n",
    "    # Measure and store the time for the tracker processing\n",
    "    timing.measure_time(2,1)\n",
    "    \n",
    "    # In autonomous steering mode, pass on the steering value to the car object und update the slider for visualization\n",
    "    if auto_steering_widget.value == True:\n",
    "        car.steering = tracker.steering_value\n",
    "        steering_value_slider.value = tracker.steering_value\n",
    "        \n",
    "    # In autonomous throttle mode, pass on the scaled throttle value to the car object und update the progress widget for visualization\n",
    "    if auto_throttle_widget.value == True:\n",
    "        car.throttle = tracker.throttle_value * throttle_value_slider.value\n",
    "        throttle_value_progress.value = tracker.throttle_value\n",
    "        \n",
    "    # If enabled, update the text area widgets with the detected objects from the tracker lists\n",
    "    if object_update_widget.value == True:\n",
    "        fill_object_list_widgets()\n",
    "    \n",
    "    # Put out some text info \n",
    "    process_status_text_widget.value = \"cnt:%d  nst:%.3f  st:%.3f  dir:%s stfcnt:%d  stpcnt:%d  thro:%.3f  stctrl:%s  len:%s  ren:%s\" % \\\n",
    "        (img_count, tracker.new_steering_value, tracker.steering_value, Direction(tracker.direction), tracker.steering_fixed_count, tracker.stop_count, tracker.throttle_value, \\\n",
    "         tracker.steering_control, tracker.signal_left_enable, tracker.signal_right_enable)\n",
    "\n",
    "    # If enabled, save tracker fields to log file\n",
    "    if SAVE_IMG_AND_MASK == True:\n",
    "        write_log_file_line()\n",
    "\n",
    "    # Measure and store the time since tracker processing\n",
    "    timing.measure_time(3,2)\n",
    "        \n",
    "    # Now update the mask image widget if enabled\n",
    "    if mask_update_widget.value == True:\n",
    "        mask_img = color_map[mask]\n",
    "        tracker.draw(mask_img)\n",
    "        mask_widget.value = bgr8_to_jpeg(mask_img)\n",
    "    \n",
    "    # increment the image counter used in logging\n",
    "    img_count += 1\n",
    "    # Update turn signals and brake light\n",
    "    car.signal_left = tracker.signal_left_enable & (img_count >>1 ) & 1\n",
    "    car.signal_right = tracker.signal_right_enable & (img_count >>1 ) & 1\n",
    "    car.brake_light = tracker.brake_light_enable\n",
    "    \n",
    "    # Update the indicators for intersection detections\n",
    "    intersection_widget.value = tracker.intersection\n",
    "    turn_left_allowed_widget.value = tracker.turn_left_allowed\n",
    "    go_straight_allowed_widget.value = tracker.go_straight_allowed\n",
    "    turn_right_allowed_widget.value = tracker.turn_right_allowed\n",
    "    stop_detected_widget.value = tracker.stop_detected\n",
    "        \n",
    "    # Measure and store the time since last time and measure the total time of the execution and finalize timing entries\n",
    "    timing.measure_time(4,3)\n",
    "    timing.measure_time(5,0)\n",
    "    if timing.loop_end():\n",
    "        timing_text_widget.value = timing.get_str() + (\"  %d\"%(len(timing.hist)))\n",
    "    \n"
   ]
  },
  {
   "cell_type": "markdown",
   "metadata": {},
   "source": [
    "The stop button handler has to stop the car, then close and delete the camera object and close the log file."
   ]
  },
  {
   "cell_type": "code",
   "execution_count": null,
   "metadata": {},
   "outputs": [],
   "source": [
    "stop_button_pressed = False\n",
    "\n",
    "def on_stop_button_click(_):\n",
    "    global stop_button_pressed,car,camera\n",
    "  \n",
    "    car.throttle = 0\n",
    "    car.steering = 0\n",
    "\n",
    "    try:\n",
    "        camera.running = False\n",
    "        camera.unobserve_all()\n",
    "    except:\n",
    "        exception_text_widget.value += \"Exception at camera.unobserve_all()\"\n",
    "        \n",
    "    try:\n",
    "        del camera\n",
    "    except:\n",
    "        exception_text_widget.value += \"Exception at del camera\"\n",
    "    \n",
    "    if stop_button_pressed == True:\n",
    "        return\n",
    "    stop_button_pressed = True\n",
    "\n",
    "    if SAVE_IMG_AND_MASK == True:\n",
    "        try:\n",
    "            log_file.close()\n",
    "        except:\n",
    "            exception_text_widget.value += \"Exception at log_file.close()\"\n",
    "\n",
    "    time.sleep(1)\n",
    "    car.throttle = 0\n",
    "    car.steering = 0\n",
    "\n",
    "stop_button.on_click(on_stop_button_click)"
   ]
  },
  {
   "cell_type": "code",
   "execution_count": null,
   "metadata": {},
   "outputs": [],
   "source": [
    "camera.running = True\n",
    "execute({'new': camera.value})\n",
    "\n",
    "camera.unobserve_all()\n",
    "traitlets.dlink((camera, 'value'), (camera_widget, 'value'), transform=bgr8_to_jpeg)\n",
    "camera.observe(execute, names='value')\n",
    "\n",
    "display(display_widgets)"
   ]
  },
  {
   "cell_type": "code",
   "execution_count": null,
   "metadata": {},
   "outputs": [],
   "source": [
    "==> Stop Here\n",
    "# Let the notebook stop here with an \"invalid syntax\" error to prevent further execution until the stop button is pressed"
   ]
  },
  {
   "cell_type": "markdown",
   "metadata": {},
   "source": [
    "#### Here come few cells to execute on demand only, after the stop button had been pressed to to stop driving"
   ]
  },
  {
   "cell_type": "markdown",
   "metadata": {},
   "source": [
    "Just in case the stop button did not stop the car, execute the following cell until stopped."
   ]
  },
  {
   "cell_type": "code",
   "execution_count": null,
   "metadata": {},
   "outputs": [],
   "source": [
    "stop_button_pressed = False\n",
    "on_stop_button_click(_)"
   ]
  },
  {
   "cell_type": "markdown",
   "metadata": {},
   "source": [
    "While driving the SimpleTiming object collected a history of execution times until the history buffer had been filled up.<br>\n",
    "To display the history, run the next cell. It will create and display a graph with some important times to check.<br>\n",
    "For instance, at 4Hz camera interval the total execution time has to stay at 250ms. If it doesn't fit a full 250ms will <br>\n",
    "be inserted and makes room up to 500ms. That should only be for one cycle or the frame rate is too high for the current implementation.  "
   ]
  },
  {
   "cell_type": "code",
   "execution_count": null,
   "metadata": {},
   "outputs": [],
   "source": [
    "import matplotlib.pyplot as plt\n",
    " \n",
    "plt.figure(figsize=(20,10))\n",
    "skip = 10\n",
    "cycle_time = [0 for _ in range(len(timing.hist)-skip)]\n",
    "mask_time  = [0 for _ in range(len(timing.hist)-skip)]\n",
    "total_time = [0 for _ in range(len(timing.hist)-skip)]\n",
    "\n",
    "for i in range(10, len(timing.hist)):\n",
    "    cycle_time[i-skip] = timing.hist[i][0]*1000\n",
    "    mask_time[i-skip] = timing.hist[i][1]*1000\n",
    "    total_time[i-skip] = timing.hist[i][timing.array_size-1]*1000\n",
    "    \n",
    "plt.plot(cycle_time, label = \"cycle_time\")\n",
    "plt.plot(mask_time, label = \"mask_time\")\n",
    "plt.plot(total_time, label = \"total_time\")\n",
    "\n",
    "# naming the x axis\n",
    "plt.xlabel('samples')\n",
    "# naming the y axis\n",
    "plt.ylabel('millisec')\n",
    " \n",
    "# giving a title to my graph\n",
    "plt.title('timing graph!')\n",
    " \n",
    "plt.legend()\n",
    "\n",
    "# function to show the plot\n",
    "plt.show()"
   ]
  },
  {
   "cell_type": "markdown",
   "metadata": {},
   "source": [
    "The next cell writes the complete stored history to a file, that can be downloaded."
   ]
  },
  {
   "cell_type": "code",
   "execution_count": null,
   "metadata": {},
   "outputs": [],
   "source": [
    "hist_file = open(\"history.csv\",\"w\")\n",
    "for i in range(0, len(timing.hist)):\n",
    "    for j in range(0,timing.array_size):\n",
    "       hist_file.write(f'{round(timing.hist[i][j]*1000,1)},')\n",
    "    hist_file.write('\\n')\n",
    "    \n",
    "hist_file.close()"
   ]
  },
  {
   "cell_type": "markdown",
   "metadata": {},
   "source": [
    "Execute the next cell to zip up the recorded camera images and masks for download."
   ]
  },
  {
   "cell_type": "code",
   "execution_count": null,
   "metadata": {},
   "outputs": [],
   "source": [
    "try:\n",
    "    if os.path.exists(\"Recording.zip\") == True:\n",
    "        os.remove(\"Recording.zip\")\n",
    "    !zip -r -q Recording.zip {recording_dir}\n",
    "except:\n",
    "    print(\"Exception at zipping recording\") \n",
    "\n",
    "print(\"Done!\")"
   ]
  },
  {
   "cell_type": "markdown",
   "metadata": {},
   "source": [
    "Execute the next cell to zip up the debug output folder for download."
   ]
  },
  {
   "cell_type": "code",
   "execution_count": null,
   "metadata": {},
   "outputs": [],
   "source": [
    "try:\n",
    "    if os.path.exists(\"DebugOut.zip\") == True:\n",
    "        os.remove(\"DebugOut.zip\")\n",
    "    !zip -r -q DebugOut.zip {DebugOut}\n",
    "except:\n",
    "    print(\"Exception at zipping DebugOut\") \n",
    "    \n",
    "print(\"Done!\")"
   ]
  },
  {
   "cell_type": "markdown",
   "metadata": {},
   "source": [
    "The last cell is only for zipping up the complete notebook folder for download."
   ]
  },
  {
   "cell_type": "code",
   "execution_count": null,
   "metadata": {},
   "outputs": [],
   "source": [
    "try:\n",
    "    if os.path.exists(\"../notebooks.zip\") == True:\n",
    "        os.remove(\"../notebooks.zip\")\n",
    "    !zip -r -q \"../notebooks.zip\" \"../notebooks\"\n",
    "except:\n",
    "    print(\"Exception at zipping DebugOut\") \n",
    "    \n",
    "print(\"Done!\")"
   ]
  }
 ],
 "metadata": {
  "kernelspec": {
   "display_name": "Python 3",
   "language": "python",
   "name": "python3"
  },
  "language_info": {
   "codemirror_mode": {
    "name": "ipython",
    "version": 3
   },
   "file_extension": ".py",
   "mimetype": "text/x-python",
   "name": "python",
   "nbconvert_exporter": "python",
   "pygments_lexer": "ipython3",
   "version": "3.6.9"
  }
 },
 "nbformat": 4,
 "nbformat_minor": 4
}
